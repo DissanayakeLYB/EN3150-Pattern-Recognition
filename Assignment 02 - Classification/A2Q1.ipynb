{
 "cells": [
  {
   "cell_type": "code",
   "execution_count": 1,
   "metadata": {},
   "outputs": [],
   "source": [
    "import numpy as np\n",
    "import matplotlib.pyplot as plt\n",
    "from sklearn.datasets import make_blobs\n",
    "\n",
    "# Generate synthetic data\n",
    "np.random.seed(0)\n",
    "centers = [[ -5, 0] , [0 ,1.5]]\n",
    "X , y = make_blobs ( n_samples = 1000 , centers = centers , random_state = 40)\n",
    "transformation = [[0.4 , 0.2] , [ -0.4 , 1.2]]\n",
    "X = np.dot (X ,transformation )\n",
    "\n",
    "# Add a bias term to the feature matrix\n",
    "X = np.c_[ np.ones(( X.shape[0], 1)), X ]\n",
    "\n",
    "# Initialize coefficients\n",
    "W = np.zeros( X.shape[1])\n",
    "\n",
    "# Define the logistic sigmoid function\n",
    "def sigmoid(z) :\n",
    "    return 1/(1 + np.exp(-z))\n",
    "\n",
    "# Define the logistic loss ( binary cross - entropy )function\n",
    "def log_loss ( y_true , y_pred ) :\n",
    "    epsilon = 1e-15\n",
    "    y_pred = np.clip ( y_pred, epsilon,  1-epsilon ) # Clip to avoid log (0)\n",
    "    return -(y_true * np.log(y_pred) + (1-y_true) * np.log(1-y_pred))\n",
    "\n",
    "# Gradient descent and Newton method parameters\n",
    "learning_rate = 0.1\n",
    "iterations = 10\n",
    "loss_history = []\n"
   ]
  },
  {
   "cell_type": "code",
   "execution_count": null,
   "metadata": {},
   "outputs": [],
   "source": []
  }
 ],
 "metadata": {
  "kernelspec": {
   "display_name": "Python 3",
   "language": "python",
   "name": "python3"
  },
  "language_info": {
   "codemirror_mode": {
    "name": "ipython",
    "version": 3
   },
   "file_extension": ".py",
   "mimetype": "text/x-python",
   "name": "python",
   "nbconvert_exporter": "python",
   "pygments_lexer": "ipython3",
   "version": "3.11.2"
  },
  "orig_nbformat": 4
 },
 "nbformat": 4,
 "nbformat_minor": 2
}
