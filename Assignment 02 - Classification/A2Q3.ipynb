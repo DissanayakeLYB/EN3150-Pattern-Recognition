{
 "cells": [
  {
   "cell_type": "markdown",
   "metadata": {},
   "source": [
    "**3.LOGISTIC REGRESSION**"
   ]
  },
  {
   "cell_type": "markdown",
   "metadata": {},
   "source": [
    "1. Consider a dataset collected from a statistics class that includes information on students. The  dataset includes variables x1 representing the number of hours studied, x2 representing the undergraduate GPA, and y indicating whether the student received an A+ in the class. After conducting a logistic regression analysis, we obtained the following estimated coefficients: w0 = −6, w1 = 0.05, and w2 = 1.\n",
    "\n",
    "(a) What is the estimated probability that a student, who has studied for 40 hours and has an undergraduate GPA of 3.5, will receive an A+ in the class?\n",
    "\n"
   ]
  },
  {
   "cell_type": "code",
   "execution_count": 2,
   "metadata": {},
   "outputs": [
    {
     "name": "stdout",
     "output_type": "stream",
     "text": [
      "The estimated probability of receiving an A+ is: 0.38\n"
     ]
    }
   ],
   "source": [
    "import numpy as np\n",
    "\n",
    "# Given coefficients\n",
    "w0 = -6\n",
    "w1 = 0.05\n",
    "w2 = 1\n",
    "\n",
    "# Given features\n",
    "x1 = 40\n",
    "x2 = 3.5\n",
    "\n",
    "# Calculate the estimated probability\n",
    "logit = w0 + w1 * x1 + w2 * x2\n",
    "probability = 1 / (1 + np.exp(-logit))\n",
    "\n",
    "print(f\"The estimated probability of receiving an A+ is: {probability:.2f}\")\n"
   ]
  },
  {
   "cell_type": "markdown",
   "metadata": {},
   "source": [
    "\n",
    "(b) To achieve a 50% chance of receiving an A+ in the class, how many hours of study does a student like the one in part (1a) need to complete?"
   ]
  },
  {
   "cell_type": "code",
   "execution_count": 3,
   "metadata": {},
   "outputs": [
    {
     "name": "stdout",
     "output_type": "stream",
     "text": [
      "To achieve a 50% chance of receiving an A+, a student needs to study for approximately 50.00 hours.\n"
     ]
    }
   ],
   "source": [
    "from scipy.optimize import fsolve\n",
    "\n",
    "# Given coefficients and features\n",
    "w0 = -6\n",
    "w1 = 0.05\n",
    "w2 = 1\n",
    "x2 = 3.5\n",
    "\n",
    "# Define the equation to solve for x1\n",
    "def equation(x1):\n",
    "    logit = w0 + w1 * x1 + w2 * x2\n",
    "    return 1 / (1 + np.exp(-logit)) - 0.5\n",
    "\n",
    "# Solve for x1\n",
    "x1_solution = fsolve(equation, 0)  # Starting with an initial guess of 0\n",
    "\n",
    "print(f\"To achieve a 50% chance of receiving an A+, a student needs to study for approximately {x1_solution[0]:.2f} hours.\")\n"
   ]
  },
  {
   "cell_type": "code",
   "execution_count": null,
   "metadata": {},
   "outputs": [],
   "source": []
  }
 ],
 "metadata": {
  "kernelspec": {
   "display_name": "Python 3",
   "language": "python",
   "name": "python3"
  },
  "language_info": {
   "codemirror_mode": {
    "name": "ipython",
    "version": 3
   },
   "file_extension": ".py",
   "mimetype": "text/x-python",
   "name": "python",
   "nbconvert_exporter": "python",
   "pygments_lexer": "ipython3",
   "version": "3.11.2"
  },
  "orig_nbformat": 4
 },
 "nbformat": 4,
 "nbformat_minor": 2
}
