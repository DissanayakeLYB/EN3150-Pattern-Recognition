{
 "cells": [
  {
   "cell_type": "code",
   "execution_count": 2,
   "metadata": {},
   "outputs": [
    {
     "name": "stdout",
     "output_type": "stream",
     "text": [
      "   sample index     TV  radio  newspaper  sales\n",
      "0             1  230.1   37.8       69.2   22.1\n",
      "1             2   44.5   39.3       45.1   10.4\n",
      "2             3   17.2   45.9       69.3    9.3\n",
      "3             4  151.5   41.3       58.5   18.5\n",
      "4             5  180.8   10.8       58.4   12.9\n"
     ]
    }
   ],
   "source": [
    "import numpy as np\n",
    "import pandas as pd\n",
    "\n",
    "# Load data from CSV\n",
    "file_path = r'D:\\Uni\\Semester 05\\EN3150 - Pattern Recognition\\Assignments\\01\\Advertising.csv'\n",
    "df = pd.read_csv(file_path)\n",
    "print(df.head())\n"
   ]
  },
  {
   "cell_type": "code",
   "execution_count": 3,
   "metadata": {},
   "outputs": [
    {
     "name": "stdout",
     "output_type": "stream",
     "text": [
      "Test dataset elements (200, 3)\n",
      "Train dataset elements (160, 3)\n",
      "Test dataset elements (40, 3)\n"
     ]
    }
   ],
   "source": [
    "from sklearn.model_selection import train_test_split\n",
    "\n",
    "X = df[['TV', 'radio', 'newspaper']]  # Independent variables\n",
    "y = df['sales']  # Dependent variable\n",
    "\n",
    "# Split the data into training (80%) and testing (20%) sets\n",
    "X_train, X_test, y_train, y_test = train_test_split(X, y, test_size=0.2, random_state=0)\n",
    "\n",
    "print(\"Test dataset elements\",X.shape)\n",
    "print(\"Train dataset elements\",X_train.shape)\n",
    "print(\"Test dataset elements\",X_test.shape)\n",
    "\n"
   ]
  },
  {
   "cell_type": "code",
   "execution_count": 4,
   "metadata": {},
   "outputs": [
    {
     "name": "stdout",
     "output_type": "stream",
     "text": [
      "Coefficients: \n",
      " [ 0.04458402  0.19649703 -0.00278146]\n",
      "Intercept: \n",
      " 2.994893030495323\n"
     ]
    }
   ],
   "source": [
    "from sklearn import datasets, linear_model\n",
    "\n",
    "model = linear_model.LinearRegression()\n",
    "\n",
    "# Train the model using the training sets\n",
    "model.fit(X_train, y_train)\n",
    "\n",
    "# The coefficients\n",
    "print(\"Coefficients: \\n\", model.coef_)\n",
    "# The intercept\n",
    "print(\"Intercept: \\n\", model.intercept_)\n",
    "\n"
   ]
  },
  {
   "cell_type": "code",
   "execution_count": 5,
   "metadata": {},
   "outputs": [
    {
     "name": "stdout",
     "output_type": "stream",
     "text": [
      "RSS =  385.0903609310249\n",
      "RSE =  1.571154974751395\n",
      "TSS =  4127.951\n",
      "R2 =  0.9067114990146383\n",
      "Standard errors for coefficients :  [0.00144818 0.00834903 0.00573721]\n",
      "t-statistic for coefficients:  [30.78630178 23.53530995 -0.48481154]\n",
      "p-value for coefficients:  [0.         0.         0.62849009]\n"
     ]
    }
   ],
   "source": [
    "from sklearn.metrics import mean_squared_error, r2_score\n",
    "\n",
    "#predictions on training data\n",
    "yhat = model.predict(X_train)\n",
    "\n",
    "#RSS\n",
    "RSS = np.sum((y_train - yhat)**2)\n",
    "print('RSS = ', RSS)\n",
    "\n",
    "#RSE\n",
    "N = len(y_train)\n",
    "p = X_train.shape[1]  #number of features\n",
    "RSE = np.sqrt(RSS / (N - p - 1))\n",
    "print('RSE = ', RSE)\n",
    "\n",
    "#TSS\n",
    "TSS = np.sum((y_train - np.mean(y_train))**2)\n",
    "print('TSS = ', TSS)\n",
    "\n",
    "#R^2\n",
    "R2 = 1 - (RSS / TSS)\n",
    "print('R2 = ', R2)\n",
    "\n",
    "\n",
    "from scipy.stats import t\n",
    "\n",
    "w_1 = model.coef_\n",
    "sigma2 = np.var(y_train - yhat)\n",
    "\n",
    "#std. errors for each feature\n",
    "X_mean = X_train.mean().values  #mean values of each feature\n",
    "SE2w1 = sigma2 / ((X_train - X_mean)**2).sum()\n",
    "print('Standard errors for coefficients : ', np.sqrt(SE2w1).values) #tv,radio,newspaper\n",
    "\n",
    "#t-statistic for each feature\n",
    "tw1 = w_1 / np.sqrt(SE2w1)\n",
    "print('t-statistic for coefficients: ', tw1.values) #tv,radio,newspaper\n",
    "\n",
    "#p-value for each feature\n",
    "pw1 = 2 * (1 - t.cdf(np.abs(tw1), df = N-p-1))\n",
    "print('p-value for coefficients: ', pw1) #tv,radio,newspaper\n"
   ]
  },
  {
   "cell_type": "code",
   "execution_count": 7,
   "metadata": {},
   "outputs": [
    {
     "name": "stdout",
     "output_type": "stream",
     "text": [
      "RSS =  176.08473165798722\n",
      "RSE =  2.2116153702791994\n",
      "TSS =  1258.7777499999997\n",
      "R2 =  0.8601145185017869\n",
      "Standard errors for coefficients :  [0.00376895 0.02171458 0.01442878]\n",
      "t-statistic for coefficients:  [11.82930416  9.04908202 -0.19277191]\n",
      "p-value for coefficients:  [5.81756865e-14 8.35869152e-11 8.48221020e-01]\n"
     ]
    }
   ],
   "source": [
    "#predictions on testing data\n",
    "yhat = model.predict(X_test)\n",
    "\n",
    "#RSS\n",
    "RSS = np.sum((y_test - yhat)**2)\n",
    "print('RSS = ', RSS)\n",
    "\n",
    "#RSE\n",
    "N = len(y_test)\n",
    "p = X_test.shape[1]  #number of features\n",
    "RSE = np.sqrt(RSS / (N - p - 1))\n",
    "print('RSE = ', RSE)\n",
    "\n",
    "#TSS\n",
    "TSS = np.sum((y_test - np.mean(y_test))**2)\n",
    "print('TSS = ', TSS)\n",
    "\n",
    "#R^2\n",
    "R2 = 1 - (RSS / TSS)\n",
    "print('R2 = ', R2)\n",
    "\n",
    "\n",
    "w_1 = model.coef_\n",
    "sigma2 = np.var(y_test - yhat)\n",
    "\n",
    "#std. errors for each feature\n",
    "X_mean = X_test.mean().values  #mean values of each feature\n",
    "SE2w1 = sigma2 / ((X_test - X_mean)**2).sum()\n",
    "print('Standard errors for coefficients : ', np.sqrt(SE2w1).values) #tv,radio,newspaper\n",
    "\n",
    "#t-statistic for each feature\n",
    "tw1 = w_1 / np.sqrt(SE2w1)\n",
    "print('t-statistic for coefficients: ', tw1.values) #tv,radio,newspaper\n",
    "\n",
    "#p-value for each feature\n",
    "pw1 = 2 * (1 - t.cdf(np.abs(tw1), df = N-p-1))\n",
    "print('p-value for coefficients: ', pw1) #tv,radio,newspaper\n"
   ]
  },
  {
   "cell_type": "code",
   "execution_count": 10,
   "metadata": {},
   "outputs": [
    {
     "name": "stdout",
     "output_type": "stream",
     "text": [
      "Predicted Sales (Scenario 1): 6030.021249914729\n",
      "Predicted Sales (Scenario 2): 2232.1958990287117\n",
      "Predicted Sales (Scenario 3): 9827.846600800745\n"
     ]
    },
    {
     "name": "stderr",
     "output_type": "stream",
     "text": [
      "c:\\Users\\lasit\\AppData\\Local\\Programs\\Python\\Python311\\Lib\\site-packages\\sklearn\\base.py:464: UserWarning: X does not have valid feature names, but LinearRegression was fitted with feature names\n",
      "  warnings.warn(\n",
      "c:\\Users\\lasit\\AppData\\Local\\Programs\\Python\\Python311\\Lib\\site-packages\\sklearn\\base.py:464: UserWarning: X does not have valid feature names, but LinearRegression was fitted with feature names\n",
      "  warnings.warn(\n",
      "c:\\Users\\lasit\\AppData\\Local\\Programs\\Python\\Python311\\Lib\\site-packages\\sklearn\\base.py:464: UserWarning: X does not have valid feature names, but LinearRegression was fitted with feature names\n",
      "  warnings.warn(\n"
     ]
    }
   ],
   "source": [
    "#define budget allocations for different scenarios\n",
    "budget_scenario_1 = [25000, 25000, 0] #25000$ to TV, 25000$ to radio\n",
    "budget_scenario_2 = [50000, 0, 0]  #50000$ to TV\n",
    "budget_scenario_3 = [0, 50000, 0]  #50000$ to radio\n",
    "\n",
    "#make predictions for each scenario\n",
    "sales_scenario_1 = model.predict([budget_scenario_1])\n",
    "sales_scenario_2 = model.predict([budget_scenario_2])\n",
    "sales_scenario_3 = model.predict([budget_scenario_3])\n",
    "\n",
    "#print the predicted sales for each scenario\n",
    "print(\"Predicted Sales (Scenario 1):\", sales_scenario_1[0])\n",
    "print(\"Predicted Sales (Scenario 2):\", sales_scenario_2[0])\n",
    "print(\"Predicted Sales (Scenario 3):\", sales_scenario_3[0])\n"
   ]
  },
  {
   "cell_type": "code",
   "execution_count": null,
   "metadata": {},
   "outputs": [],
   "source": []
  }
 ],
 "metadata": {
  "kernelspec": {
   "display_name": "Python 3",
   "language": "python",
   "name": "python3"
  },
  "language_info": {
   "codemirror_mode": {
    "name": "ipython",
    "version": 3
   },
   "file_extension": ".py",
   "mimetype": "text/x-python",
   "name": "python",
   "nbconvert_exporter": "python",
   "pygments_lexer": "ipython3",
   "version": "3.11.2"
  },
  "orig_nbformat": 4
 },
 "nbformat": 4,
 "nbformat_minor": 2
}
